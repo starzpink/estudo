{
  "nbformat": 4,
  "nbformat_minor": 0,
  "metadata": {
    "colab": {
      "name": "p1_python.ipynb",
      "provenance": [],
      "authorship_tag": "ABX9TyONojYMb7NRryaQxzByCwwO",
      "include_colab_link": true
    },
    "kernelspec": {
      "name": "python3",
      "display_name": "Python 3"
    },
    "language_info": {
      "name": "python"
    }
  },
  "cells": [
    {
      "cell_type": "markdown",
      "metadata": {
        "id": "view-in-github",
        "colab_type": "text"
      },
      "source": [
        "<a href=\"https://colab.research.google.com/github/starzpink/estudo/blob/main/p1_python.ipynb\" target=\"_parent\"><img src=\"https://colab.research.google.com/assets/colab-badge.svg\" alt=\"Open In Colab\"/></a>"
      ]
    },
    {
      "cell_type": "code",
      "source": [
        "print(\"calculadora de descontos\")\n",
        "v = float(input(\"digite o valor do produto:\"))\n",
        "d = float(v * 5/100)\n",
        "v -= d\n",
        "print(\"o valor do produto com 5% de desconto é:\",v)"
      ],
      "metadata": {
        "id": "9jAq2b_qa6wF"
      },
      "execution_count": null,
      "outputs": []
    },
    {
      "cell_type": "code",
      "source": [
        "print(\"comparação entre dois números inteiros\")\n",
        "x = int(input(\"digite o primeiro número: \"))\n",
        "y = int(input(\"digite o segundo número: \"))\n",
        "if x>y:\n",
        "  print(\"o primeiro número é maior!\")\n",
        "elif y>x:\n",
        "  print(\"o segundo número é maior!\")\n",
        "else:\n",
        "  print(\"os valores são iguais!\")"
      ],
      "metadata": {
        "id": "0jY5L_QGb-iL"
      },
      "execution_count": null,
      "outputs": []
    }
  ]
}